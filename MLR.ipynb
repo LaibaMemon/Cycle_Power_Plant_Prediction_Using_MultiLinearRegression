{
 "cells": [
  {
   "cell_type": "code",
   "execution_count": 4,
   "metadata": {},
   "outputs": [],
   "source": [
    "import numpy as np\n",
    "import pandas as pd\n",
    "import matplotlib.pyplot as plt\n",
    "import seaborn as sns\n",
    "from sklearn.model_selection import train_test_split\n",
    "from sklearn.linear_model import LinearRegression\n",
    "from sklearn.preprocessing import LabelEncoder"
   ]
  },
  {
   "cell_type": "code",
   "execution_count": 2,
   "metadata": {},
   "outputs": [
    {
     "data": {
      "text/html": [
       "<div>\n",
       "<style scoped>\n",
       "    .dataframe tbody tr th:only-of-type {\n",
       "        vertical-align: middle;\n",
       "    }\n",
       "\n",
       "    .dataframe tbody tr th {\n",
       "        vertical-align: top;\n",
       "    }\n",
       "\n",
       "    .dataframe thead th {\n",
       "        text-align: right;\n",
       "    }\n",
       "</style>\n",
       "<table border=\"1\" class=\"dataframe\">\n",
       "  <thead>\n",
       "    <tr style=\"text-align: right;\">\n",
       "      <th></th>\n",
       "      <th>Car_Name</th>\n",
       "      <th>Year</th>\n",
       "      <th>Selling_Price</th>\n",
       "      <th>Present_Price</th>\n",
       "      <th>Kms_Driven</th>\n",
       "      <th>Fuel_Type</th>\n",
       "      <th>Seller_Type</th>\n",
       "      <th>Transmission</th>\n",
       "      <th>Owner</th>\n",
       "    </tr>\n",
       "  </thead>\n",
       "  <tbody>\n",
       "    <tr>\n",
       "      <th>0</th>\n",
       "      <td>ritz</td>\n",
       "      <td>2014</td>\n",
       "      <td>3.35</td>\n",
       "      <td>5.59</td>\n",
       "      <td>27000</td>\n",
       "      <td>Petrol</td>\n",
       "      <td>Dealer</td>\n",
       "      <td>Manual</td>\n",
       "      <td>0</td>\n",
       "    </tr>\n",
       "    <tr>\n",
       "      <th>1</th>\n",
       "      <td>sx4</td>\n",
       "      <td>2013</td>\n",
       "      <td>4.75</td>\n",
       "      <td>9.54</td>\n",
       "      <td>43000</td>\n",
       "      <td>Diesel</td>\n",
       "      <td>Dealer</td>\n",
       "      <td>Manual</td>\n",
       "      <td>0</td>\n",
       "    </tr>\n",
       "    <tr>\n",
       "      <th>2</th>\n",
       "      <td>ciaz</td>\n",
       "      <td>2017</td>\n",
       "      <td>7.25</td>\n",
       "      <td>9.85</td>\n",
       "      <td>6900</td>\n",
       "      <td>Petrol</td>\n",
       "      <td>Dealer</td>\n",
       "      <td>Manual</td>\n",
       "      <td>0</td>\n",
       "    </tr>\n",
       "    <tr>\n",
       "      <th>3</th>\n",
       "      <td>wagon r</td>\n",
       "      <td>2011</td>\n",
       "      <td>2.85</td>\n",
       "      <td>4.15</td>\n",
       "      <td>5200</td>\n",
       "      <td>Petrol</td>\n",
       "      <td>Dealer</td>\n",
       "      <td>Manual</td>\n",
       "      <td>0</td>\n",
       "    </tr>\n",
       "    <tr>\n",
       "      <th>4</th>\n",
       "      <td>swift</td>\n",
       "      <td>2014</td>\n",
       "      <td>4.60</td>\n",
       "      <td>6.87</td>\n",
       "      <td>42450</td>\n",
       "      <td>Diesel</td>\n",
       "      <td>Dealer</td>\n",
       "      <td>Manual</td>\n",
       "      <td>0</td>\n",
       "    </tr>\n",
       "  </tbody>\n",
       "</table>\n",
       "</div>"
      ],
      "text/plain": [
       "  Car_Name  Year  Selling_Price  Present_Price  Kms_Driven Fuel_Type  \\\n",
       "0     ritz  2014           3.35           5.59       27000    Petrol   \n",
       "1      sx4  2013           4.75           9.54       43000    Diesel   \n",
       "2     ciaz  2017           7.25           9.85        6900    Petrol   \n",
       "3  wagon r  2011           2.85           4.15        5200    Petrol   \n",
       "4    swift  2014           4.60           6.87       42450    Diesel   \n",
       "\n",
       "  Seller_Type Transmission  Owner  \n",
       "0      Dealer       Manual      0  \n",
       "1      Dealer       Manual      0  \n",
       "2      Dealer       Manual      0  \n",
       "3      Dealer       Manual      0  \n",
       "4      Dealer       Manual      0  "
      ]
     },
     "execution_count": 2,
     "metadata": {},
     "output_type": "execute_result"
    }
   ],
   "source": [
    "data=pd.read_csv('car.csv')\n",
    "data.head()"
   ]
  },
  {
   "cell_type": "code",
   "execution_count": 3,
   "metadata": {},
   "outputs": [
    {
     "data": {
      "text/plain": [
       "(301, 9)"
      ]
     },
     "execution_count": 3,
     "metadata": {},
     "output_type": "execute_result"
    }
   ],
   "source": [
    "data.shape"
   ]
  },
  {
   "cell_type": "code",
   "execution_count": 5,
   "metadata": {},
   "outputs": [
    {
     "data": {
      "text/plain": [
       "Car_Name         0\n",
       "Year             0\n",
       "Selling_Price    0\n",
       "Present_Price    0\n",
       "Kms_Driven       0\n",
       "Fuel_Type        0\n",
       "Seller_Type      0\n",
       "Transmission     0\n",
       "Owner            0\n",
       "dtype: int64"
      ]
     },
     "execution_count": 5,
     "metadata": {},
     "output_type": "execute_result"
    }
   ],
   "source": [
    "data.isnull().sum()"
   ]
  },
  {
   "cell_type": "code",
   "execution_count": 6,
   "metadata": {},
   "outputs": [
    {
     "name": "stdout",
     "output_type": "stream",
     "text": [
      "<class 'pandas.core.frame.DataFrame'>\n",
      "RangeIndex: 301 entries, 0 to 300\n",
      "Data columns (total 9 columns):\n",
      " #   Column         Non-Null Count  Dtype  \n",
      "---  ------         --------------  -----  \n",
      " 0   Car_Name       301 non-null    object \n",
      " 1   Year           301 non-null    int64  \n",
      " 2   Selling_Price  301 non-null    float64\n",
      " 3   Present_Price  301 non-null    float64\n",
      " 4   Kms_Driven     301 non-null    int64  \n",
      " 5   Fuel_Type      301 non-null    object \n",
      " 6   Seller_Type    301 non-null    object \n",
      " 7   Transmission   301 non-null    object \n",
      " 8   Owner          301 non-null    int64  \n",
      "dtypes: float64(2), int64(3), object(4)\n",
      "memory usage: 21.3+ KB\n"
     ]
    }
   ],
   "source": [
    "data.info()"
   ]
  },
  {
   "cell_type": "code",
   "execution_count": 7,
   "metadata": {},
   "outputs": [],
   "source": [
    "label=LabelEncoder()"
   ]
  },
  {
   "cell_type": "code",
   "execution_count": 8,
   "metadata": {},
   "outputs": [
    {
     "data": {
      "text/html": [
       "<div>\n",
       "<style scoped>\n",
       "    .dataframe tbody tr th:only-of-type {\n",
       "        vertical-align: middle;\n",
       "    }\n",
       "\n",
       "    .dataframe tbody tr th {\n",
       "        vertical-align: top;\n",
       "    }\n",
       "\n",
       "    .dataframe thead th {\n",
       "        text-align: right;\n",
       "    }\n",
       "</style>\n",
       "<table border=\"1\" class=\"dataframe\">\n",
       "  <thead>\n",
       "    <tr style=\"text-align: right;\">\n",
       "      <th></th>\n",
       "      <th>Car_Name</th>\n",
       "      <th>Year</th>\n",
       "      <th>Selling_Price</th>\n",
       "      <th>Present_Price</th>\n",
       "      <th>Kms_Driven</th>\n",
       "      <th>Fuel_Type</th>\n",
       "      <th>Seller_Type</th>\n",
       "      <th>Transmission</th>\n",
       "      <th>Owner</th>\n",
       "    </tr>\n",
       "  </thead>\n",
       "  <tbody>\n",
       "    <tr>\n",
       "      <th>0</th>\n",
       "      <td>90</td>\n",
       "      <td>2014</td>\n",
       "      <td>3.35</td>\n",
       "      <td>5.59</td>\n",
       "      <td>27000</td>\n",
       "      <td>2</td>\n",
       "      <td>0</td>\n",
       "      <td>1</td>\n",
       "      <td>0</td>\n",
       "    </tr>\n",
       "    <tr>\n",
       "      <th>1</th>\n",
       "      <td>93</td>\n",
       "      <td>2013</td>\n",
       "      <td>4.75</td>\n",
       "      <td>9.54</td>\n",
       "      <td>43000</td>\n",
       "      <td>1</td>\n",
       "      <td>0</td>\n",
       "      <td>1</td>\n",
       "      <td>0</td>\n",
       "    </tr>\n",
       "    <tr>\n",
       "      <th>2</th>\n",
       "      <td>68</td>\n",
       "      <td>2017</td>\n",
       "      <td>7.25</td>\n",
       "      <td>9.85</td>\n",
       "      <td>6900</td>\n",
       "      <td>2</td>\n",
       "      <td>0</td>\n",
       "      <td>1</td>\n",
       "      <td>0</td>\n",
       "    </tr>\n",
       "    <tr>\n",
       "      <th>3</th>\n",
       "      <td>96</td>\n",
       "      <td>2011</td>\n",
       "      <td>2.85</td>\n",
       "      <td>4.15</td>\n",
       "      <td>5200</td>\n",
       "      <td>2</td>\n",
       "      <td>0</td>\n",
       "      <td>1</td>\n",
       "      <td>0</td>\n",
       "    </tr>\n",
       "    <tr>\n",
       "      <th>4</th>\n",
       "      <td>92</td>\n",
       "      <td>2014</td>\n",
       "      <td>4.60</td>\n",
       "      <td>6.87</td>\n",
       "      <td>42450</td>\n",
       "      <td>1</td>\n",
       "      <td>0</td>\n",
       "      <td>1</td>\n",
       "      <td>0</td>\n",
       "    </tr>\n",
       "  </tbody>\n",
       "</table>\n",
       "</div>"
      ],
      "text/plain": [
       "   Car_Name  Year  Selling_Price  Present_Price  Kms_Driven  Fuel_Type  \\\n",
       "0        90  2014           3.35           5.59       27000          2   \n",
       "1        93  2013           4.75           9.54       43000          1   \n",
       "2        68  2017           7.25           9.85        6900          2   \n",
       "3        96  2011           2.85           4.15        5200          2   \n",
       "4        92  2014           4.60           6.87       42450          1   \n",
       "\n",
       "   Seller_Type  Transmission  Owner  \n",
       "0            0             1      0  \n",
       "1            0             1      0  \n",
       "2            0             1      0  \n",
       "3            0             1      0  \n",
       "4            0             1      0  "
      ]
     },
     "execution_count": 8,
     "metadata": {},
     "output_type": "execute_result"
    }
   ],
   "source": [
    "data['Fuel_Type']=label.fit_transform(data['Fuel_Type'])\n",
    "data['Seller_Type']=label.fit_transform(data['Seller_Type'])\n",
    "data['Transmission']=label.fit_transform(data['Transmission'])\n",
    "data['Car_Name']=label.fit_transform(data['Car_Name'])\n",
    "data.head()"
   ]
  },
  {
   "cell_type": "code",
   "execution_count": 9,
   "metadata": {},
   "outputs": [],
   "source": [
    "x=data[['Car_Name','Fuel_Type','Transmission']]\n",
    "y=data[['Selling_Price']]"
   ]
  },
  {
   "cell_type": "code",
   "execution_count": 10,
   "metadata": {},
   "outputs": [
    {
     "name": "stdout",
     "output_type": "stream",
     "text": [
      "     Car_Name  Fuel_Type  Transmission\n",
      "0          90          2             1\n",
      "1          93          1             1\n",
      "2          68          2             1\n",
      "3          96          2             1\n",
      "4          92          1             1\n",
      "..        ...        ...           ...\n",
      "296        69          1             1\n",
      "297        66          2             1\n",
      "298        69          2             1\n",
      "299        69          1             1\n",
      "300        66          2             1\n",
      "\n",
      "[301 rows x 3 columns]\n"
     ]
    }
   ],
   "source": [
    "print(x)"
   ]
  },
  {
   "cell_type": "code",
   "execution_count": 11,
   "metadata": {},
   "outputs": [
    {
     "name": "stdout",
     "output_type": "stream",
     "text": [
      "     Selling_Price\n",
      "0             3.35\n",
      "1             4.75\n",
      "2             7.25\n",
      "3             2.85\n",
      "4             4.60\n",
      "..             ...\n",
      "296           9.50\n",
      "297           4.00\n",
      "298           3.35\n",
      "299          11.50\n",
      "300           5.30\n",
      "\n",
      "[301 rows x 1 columns]\n"
     ]
    }
   ],
   "source": [
    "print(y)"
   ]
  },
  {
   "cell_type": "code",
   "execution_count": 12,
   "metadata": {},
   "outputs": [
    {
     "data": {
      "text/plain": [
       "((301, 3), (240, 3), (61, 3))"
      ]
     },
     "execution_count": 12,
     "metadata": {},
     "output_type": "execute_result"
    }
   ],
   "source": [
    "x_train,x_test,y_train,y_test=train_test_split(x,y,test_size=0.2,random_state=1)\n",
    "x.shape,x_train.shape,x_test.shape"
   ]
  },
  {
   "cell_type": "code",
   "execution_count": 13,
   "metadata": {},
   "outputs": [],
   "source": [
    "model=LinearRegression()"
   ]
  },
  {
   "cell_type": "code",
   "execution_count": 14,
   "metadata": {},
   "outputs": [
    {
     "data": {
      "text/plain": [
       "LinearRegression()"
      ]
     },
     "execution_count": 14,
     "metadata": {},
     "output_type": "execute_result"
    }
   ],
   "source": [
    "model.fit(x_train,y_train)"
   ]
  },
  {
   "cell_type": "code",
   "execution_count": 15,
   "metadata": {},
   "outputs": [
    {
     "data": {
      "text/plain": [
       "array([[10.06658898],\n",
       "       [ 4.70281595],\n",
       "       [ 2.47310994],\n",
       "       [ 4.12740794],\n",
       "       [ 2.18540594],\n",
       "       [ 5.70977995],\n",
       "       [-0.83548608],\n",
       "       [ 4.48703795],\n",
       "       [ 3.69585194],\n",
       "       [ 3.04851794],\n",
       "       [ 7.91316947],\n",
       "       [ 4.48703795],\n",
       "       [ 3.48007394],\n",
       "       [ 4.34318595],\n",
       "       [ 0.45918193],\n",
       "       [ 5.96680696],\n",
       "       [ 7.84124347],\n",
       "       [ 9.71131948],\n",
       "       [10.57007098],\n",
       "       [ 7.84124347],\n",
       "       [ 5.35014995],\n",
       "       [ 3.69585194],\n",
       "       [ 8.91577298],\n",
       "       [ 8.69999498],\n",
       "       [ 8.62806898],\n",
       "       [14.072489  ],\n",
       "       [ 3.69585194],\n",
       "       [-0.76356008],\n",
       "       [ 0.38725593],\n",
       "       [ 1.53807193],\n",
       "       [ 1.10651593],\n",
       "       [ 1.32229393],\n",
       "       [ 4.63088995],\n",
       "       [13.85235051],\n",
       "       [13.85235051],\n",
       "       [ 4.34318595],\n",
       "       [ 4.77474195],\n",
       "       [-0.04430007],\n",
       "       [-0.54778208],\n",
       "       [ 9.85081098],\n",
       "       [ 3.69585194],\n",
       "       [ 8.12894747],\n",
       "       [ 0.09955193],\n",
       "       [ 9.56746748],\n",
       "       [ 8.70435547],\n",
       "       [ 3.33622194],\n",
       "       [ 7.91316947],\n",
       "       [ 5.49400195],\n",
       "       [ 8.41665147],\n",
       "       [ 1.82577593],\n",
       "       [ 5.20629795],\n",
       "       [ 1.46614593],\n",
       "       [ 4.12740794],\n",
       "       [ 3.48007394],\n",
       "       [ 2.25733194],\n",
       "       [ 0.81881193],\n",
       "       [13.85235051],\n",
       "       [ 3.12044394],\n",
       "       [ 5.49400195],\n",
       "       [ 4.99051995],\n",
       "       [ 7.76495697]])"
      ]
     },
     "execution_count": 15,
     "metadata": {},
     "output_type": "execute_result"
    }
   ],
   "source": [
    "model.predict(x_test)"
   ]
  },
  {
   "cell_type": "code",
   "execution_count": 16,
   "metadata": {},
   "outputs": [
    {
     "data": {
      "text/plain": [
       "array([[ 1.75384993],\n",
       "       [ 8.05702147],\n",
       "       [ 9.71131948],\n",
       "       [-0.76356008],\n",
       "       [ 2.90466594],\n",
       "       [ 5.42207595],\n",
       "       [-0.33200407],\n",
       "       [ 3.83970394],\n",
       "       [ 1.32229393],\n",
       "       [ 3.69585194],\n",
       "       [ 8.41665147],\n",
       "       [ 3.83970394],\n",
       "       [ 0.74688593],\n",
       "       [ 1.68192393],\n",
       "       [ 5.42207595],\n",
       "       [ 1.60999793],\n",
       "       [ 3.69585194],\n",
       "       [ 9.78324548],\n",
       "       [ 3.33622194],\n",
       "       [ 3.26429594],\n",
       "       [ 1.75384993],\n",
       "       [ 8.77628147],\n",
       "       [ 9.13155098],\n",
       "       [ 2.18540594],\n",
       "       [ 8.20087347],\n",
       "       [ 4.70281595],\n",
       "       [ 1.03458993],\n",
       "       [-0.97933808],\n",
       "       [ 4.77474195],\n",
       "       [ 3.48007394],\n",
       "       [ 4.99051995],\n",
       "       [ 5.42207595],\n",
       "       [ 3.98355594],\n",
       "       [ 9.13591147],\n",
       "       [ 8.27279947],\n",
       "       [ 2.97659194],\n",
       "       [ 5.13437195],\n",
       "       [ 2.40118394],\n",
       "       [ 3.04851794],\n",
       "       [ 1.96962794],\n",
       "       [ 3.69585194],\n",
       "       [ 3.26429594],\n",
       "       [13.85235051],\n",
       "       [ 3.48007394],\n",
       "       [ 7.40532697],\n",
       "       [ 2.04155394],\n",
       "       [ 2.18540594],\n",
       "       [ 2.25733194],\n",
       "       [ 8.77628147],\n",
       "       [ 3.33622194],\n",
       "       [ 7.84124347],\n",
       "       [ 3.69585194],\n",
       "       [-0.26007807],\n",
       "       [ 5.70977995],\n",
       "       [ 5.20629795],\n",
       "       [ 3.95287896],\n",
       "       [ 8.91577298],\n",
       "       [ 3.26429594],\n",
       "       [ 9.71131948],\n",
       "       [ 0.53110793],\n",
       "       [ 4.19933394],\n",
       "       [ 4.77474195],\n",
       "       [ 2.47310994],\n",
       "       [ 4.63088995],\n",
       "       [ 8.41665147],\n",
       "       [13.85235051],\n",
       "       [ 1.17844193],\n",
       "       [13.856711  ],\n",
       "       [ 9.70695898],\n",
       "       [13.85235051],\n",
       "       [ 4.12740794],\n",
       "       [ 8.99205947],\n",
       "       [ 9.99466298],\n",
       "       [ 3.69585194],\n",
       "       [ 0.17147793],\n",
       "       [ 7.91316947],\n",
       "       [ 8.84820747],\n",
       "       [ 5.63785395],\n",
       "       [ 9.71131948],\n",
       "       [ 8.77192098],\n",
       "       [ 8.48421697],\n",
       "       [ 4.84666795],\n",
       "       [ 2.76081394],\n",
       "       [ 3.83970394],\n",
       "       [13.85235051],\n",
       "       [ 0.17147793],\n",
       "       [ 5.63785395],\n",
       "       [ 4.12740794],\n",
       "       [ 2.40118394],\n",
       "       [ 5.49400195],\n",
       "       [ 2.04155394],\n",
       "       [ 0.74688593],\n",
       "       [ 2.83273994],\n",
       "       [ 4.63088995],\n",
       "       [ 6.03873296],\n",
       "       [ 3.91162994],\n",
       "       [ 4.27125994],\n",
       "       [ 4.27125994],\n",
       "       [ 1.25036793],\n",
       "       [ 0.31532993],\n",
       "       [ 9.13591147],\n",
       "       [ 1.53807193],\n",
       "       [ 2.04155394],\n",
       "       [ 3.69585194],\n",
       "       [ 8.41229097],\n",
       "       [ 2.04155394],\n",
       "       [ 4.12740794],\n",
       "       [ 2.40118394],\n",
       "       [ 7.91316947],\n",
       "       [ 3.48007394],\n",
       "       [ 4.91859395],\n",
       "       [ 3.48007394],\n",
       "       [ 0.67495993],\n",
       "       [ 7.91316947],\n",
       "       [ 0.02762593],\n",
       "       [ 3.83970394],\n",
       "       [ 8.99205947],\n",
       "       [ 1.03458993],\n",
       "       [ 3.83970394],\n",
       "       [ 3.69585194],\n",
       "       [14.21198051],\n",
       "       [ 0.24340393],\n",
       "       [ 3.83970394],\n",
       "       [ 8.91577298],\n",
       "       [ 1.39421993],\n",
       "       [ 9.71131948],\n",
       "       [-0.18815207],\n",
       "       [-0.11622607],\n",
       "       [ 3.69585194],\n",
       "       [-0.26007807],\n",
       "       [ 8.63242947],\n",
       "       [ 2.11347994],\n",
       "       [ 3.48007394],\n",
       "       [ 5.49400195],\n",
       "       [ 4.19933394],\n",
       "       [14.21198051],\n",
       "       [ 9.71131948],\n",
       "       [ 3.33622194],\n",
       "       [ 8.69999498],\n",
       "       [ 4.70281595],\n",
       "       [-0.47585607],\n",
       "       [ 3.98355594],\n",
       "       [ 3.69585194],\n",
       "       [ 3.26429594],\n",
       "       [ 4.99051995],\n",
       "       [ 4.70281595],\n",
       "       [ 4.34318595],\n",
       "       [-0.26007807],\n",
       "       [ 8.99205947],\n",
       "       [ 4.99051995],\n",
       "       [ 7.91316947],\n",
       "       [-0.18815207],\n",
       "       [ 3.48007394],\n",
       "       [ 3.62392594],\n",
       "       [-0.54778208],\n",
       "       [ 4.77474195],\n",
       "       [14.21198051],\n",
       "       [ 3.62392594],\n",
       "       [ 4.63088995],\n",
       "       [ 1.03458993],\n",
       "       [ 3.33622194],\n",
       "       [ 8.84384698],\n",
       "       [ 1.89770194],\n",
       "       [ 8.70435547],\n",
       "       [-0.61970808],\n",
       "       [ 0.60303393],\n",
       "       [ 4.99051995],\n",
       "       [-0.69163408],\n",
       "       [ 5.20629795],\n",
       "       [-0.26007807],\n",
       "       [ 8.48857747],\n",
       "       [ 4.91859395],\n",
       "       [ 1.10651593],\n",
       "       [ 3.69585194],\n",
       "       [ 3.83970394],\n",
       "       [ 2.83273994],\n",
       "       [ 4.77474195],\n",
       "       [ 3.19236994],\n",
       "       [-0.11622607],\n",
       "       [ 9.56746748],\n",
       "       [ 1.39421993],\n",
       "       [ 0.53110793],\n",
       "       [ 9.13591147],\n",
       "       [ 3.83970394],\n",
       "       [ 3.88095296],\n",
       "       [ 6.03873296],\n",
       "       [ 2.25733194],\n",
       "       [ 2.11347994],\n",
       "       [ 3.26429594],\n",
       "       [-0.83548608],\n",
       "       [ 5.49400195],\n",
       "       [-1.05126408],\n",
       "       [ 7.84124347],\n",
       "       [ 3.69585194],\n",
       "       [ 2.04155394],\n",
       "       [-0.11622607],\n",
       "       [ 4.63088995],\n",
       "       [ 5.35014995],\n",
       "       [ 3.88095296],\n",
       "       [13.85235051],\n",
       "       [ 8.41665147],\n",
       "       [ 2.04155394],\n",
       "       [ 5.35014995],\n",
       "       [ 3.83970394],\n",
       "       [ 8.20087347],\n",
       "       [ 5.63785395],\n",
       "       [ 8.69999498],\n",
       "       [ 4.99051995],\n",
       "       [ 9.42361548],\n",
       "       [ 2.18540594],\n",
       "       [ 2.04155394],\n",
       "       [ 3.69585194],\n",
       "       [ 4.12740794],\n",
       "       [ 3.33622194],\n",
       "       [ 8.84820747],\n",
       "       [ 9.63939348],\n",
       "       [10.49814498],\n",
       "       [ 9.49554148],\n",
       "       [-0.90741208],\n",
       "       [ 9.27976347],\n",
       "       [ 5.70977995],\n",
       "       [ 5.49400195],\n",
       "       [ 3.83970394],\n",
       "       [13.85235051],\n",
       "       [ 2.61696194],\n",
       "       [ 8.55614298],\n",
       "       [ 3.69585194],\n",
       "       [ 3.69585194],\n",
       "       [ 7.62110497],\n",
       "       [ 3.69585194],\n",
       "       [ 8.12894747],\n",
       "       [ 8.05702147],\n",
       "       [ 3.04851794],\n",
       "       [-0.40393007],\n",
       "       [-0.83548608],\n",
       "       [ 4.70281595],\n",
       "       [ 3.48007394],\n",
       "       [ 3.83970394],\n",
       "       [ 5.49400195],\n",
       "       [-1.26704208]])"
      ]
     },
     "execution_count": 16,
     "metadata": {},
     "output_type": "execute_result"
    }
   ],
   "source": [
    "model.predict(x_train)"
   ]
  },
  {
   "cell_type": "code",
   "execution_count": 17,
   "metadata": {},
   "outputs": [
    {
     "name": "stdout",
     "output_type": "stream",
     "text": [
      "Accuracy on Training Data 0.46492432586690735\n"
     ]
    }
   ],
   "source": [
    "print('Accuracy on Training Data',model.score(x_train,y_train))"
   ]
  },
  {
   "cell_type": "code",
   "execution_count": 19,
   "metadata": {},
   "outputs": [
    {
     "name": "stdout",
     "output_type": "stream",
     "text": [
      "Accuracy on Testing Data 0.49256446786121566\n"
     ]
    }
   ],
   "source": [
    "print('Accuracy on Testing Data',model.score(x_test,y_test))"
   ]
  },
  {
   "cell_type": "code",
   "execution_count": 20,
   "metadata": {},
   "outputs": [],
   "source": [
    "from sklearn import metrics"
   ]
  },
  {
   "cell_type": "code",
   "execution_count": 21,
   "metadata": {},
   "outputs": [],
   "source": [
    "prediction=model.predict(x_test)"
   ]
  },
  {
   "cell_type": "code",
   "execution_count": 22,
   "metadata": {},
   "outputs": [
    {
     "name": "stdout",
     "output_type": "stream",
     "text": [
      "[[10.06658898]\n",
      " [ 4.70281595]\n",
      " [ 2.47310994]\n",
      " [ 4.12740794]\n",
      " [ 2.18540594]\n",
      " [ 5.70977995]\n",
      " [-0.83548608]\n",
      " [ 4.48703795]\n",
      " [ 3.69585194]\n",
      " [ 3.04851794]\n",
      " [ 7.91316947]\n",
      " [ 4.48703795]\n",
      " [ 3.48007394]\n",
      " [ 4.34318595]\n",
      " [ 0.45918193]\n",
      " [ 5.96680696]\n",
      " [ 7.84124347]\n",
      " [ 9.71131948]\n",
      " [10.57007098]\n",
      " [ 7.84124347]\n",
      " [ 5.35014995]\n",
      " [ 3.69585194]\n",
      " [ 8.91577298]\n",
      " [ 8.69999498]\n",
      " [ 8.62806898]\n",
      " [14.072489  ]\n",
      " [ 3.69585194]\n",
      " [-0.76356008]\n",
      " [ 0.38725593]\n",
      " [ 1.53807193]\n",
      " [ 1.10651593]\n",
      " [ 1.32229393]\n",
      " [ 4.63088995]\n",
      " [13.85235051]\n",
      " [13.85235051]\n",
      " [ 4.34318595]\n",
      " [ 4.77474195]\n",
      " [-0.04430007]\n",
      " [-0.54778208]\n",
      " [ 9.85081098]\n",
      " [ 3.69585194]\n",
      " [ 8.12894747]\n",
      " [ 0.09955193]\n",
      " [ 9.56746748]\n",
      " [ 8.70435547]\n",
      " [ 3.33622194]\n",
      " [ 7.91316947]\n",
      " [ 5.49400195]\n",
      " [ 8.41665147]\n",
      " [ 1.82577593]\n",
      " [ 5.20629795]\n",
      " [ 1.46614593]\n",
      " [ 4.12740794]\n",
      " [ 3.48007394]\n",
      " [ 2.25733194]\n",
      " [ 0.81881193]\n",
      " [13.85235051]\n",
      " [ 3.12044394]\n",
      " [ 5.49400195]\n",
      " [ 4.99051995]\n",
      " [ 7.76495697]]\n"
     ]
    }
   ],
   "source": [
    "print(prediction)"
   ]
  },
  {
   "cell_type": "code",
   "execution_count": 23,
   "metadata": {},
   "outputs": [
    {
     "name": "stdout",
     "output_type": "stream",
     "text": [
      "R squared Error :  0.49256446786121566\n"
     ]
    }
   ],
   "source": [
    "# R squared Error\n",
    "error_score = metrics.r2_score(y_test,prediction)\n",
    "print(\"R squared Error : \", error_score)"
   ]
  },
  {
   "cell_type": "code",
   "execution_count": null,
   "metadata": {},
   "outputs": [],
   "source": []
  }
 ],
 "metadata": {
  "kernelspec": {
   "display_name": "Python 3",
   "language": "python",
   "name": "python3"
  },
  "language_info": {
   "codemirror_mode": {
    "name": "ipython",
    "version": 3
   },
   "file_extension": ".py",
   "mimetype": "text/x-python",
   "name": "python",
   "nbconvert_exporter": "python",
   "pygments_lexer": "ipython3",
   "version": "3.8.5"
  }
 },
 "nbformat": 4,
 "nbformat_minor": 4
}
